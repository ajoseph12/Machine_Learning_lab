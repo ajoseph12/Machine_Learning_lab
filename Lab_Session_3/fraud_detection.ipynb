{
 "cells": [
  {
   "cell_type": "code",
   "execution_count": 134,
   "metadata": {
    "collapsed": false
   },
   "outputs": [],
   "source": [
    "import pandas as pd\n",
    "import numpy as np\n",
    "import matplotlib.pyplot as plt\n",
    "import seaborn as sns\n",
    "from sklearn.model_selection import train_test_split, KFold, GridSearchCV\n",
    "from sklearn.metrics import confusion_matrix, classification_report\n",
    "from sklearn.linear_model import LogisticRegression\n",
    "from sklearn.tree import DecisionTreeClassifier\n",
    "from sklearn.ensemble import RandomForestClassifier\n",
    "from sklearn.svm import SVC\n",
    "from sklearn import preprocessing\n",
    "from sklearn.decomposition import PCA\n",
    "from imblearn.ensemble import BalanceCascade, EasyEnsemble\n",
    "from sklearn.ensemble import AdaBoostClassifier\n",
    "from tqdm import tqdm\n",
    "import xgboost as xgb \n",
    "from imblearn.under_sampling import RepeatedEditedNearestNeighbours, TomekLinks\n",
    "from collections import Counter\n",
    "import pickle"
   ]
  },
  {
   "cell_type": "markdown",
   "metadata": {},
   "source": [
    "# Data Reading"
   ]
  },
  {
   "cell_type": "code",
   "execution_count": 83,
   "metadata": {
    "collapsed": false
   },
   "outputs": [],
   "source": [
    "## Read dataset\n",
    "\n",
    "df_x_train = pd.read_csv('dataset/train.csv', header= None)\n",
    "df_y_train = pd.read_csv('dataset/train_labels.csv', header= None)\n",
    "df_y_train.columns = ['label']\n",
    "df_train = pd.concat((df_x_train,df_y_train), axis = 1) # concatenate X and Y"
   ]
  },
  {
   "cell_type": "code",
   "execution_count": 84,
   "metadata": {
    "collapsed": false,
    "scrolled": true
   },
   "outputs": [
    {
     "data": {
      "text/html": [
       "<div>\n",
       "<style scoped>\n",
       "    .dataframe tbody tr th:only-of-type {\n",
       "        vertical-align: middle;\n",
       "    }\n",
       "\n",
       "    .dataframe tbody tr th {\n",
       "        vertical-align: top;\n",
       "    }\n",
       "\n",
       "    .dataframe thead th {\n",
       "        text-align: right;\n",
       "    }\n",
       "</style>\n",
       "<table border=\"1\" class=\"dataframe\">\n",
       "  <thead>\n",
       "    <tr style=\"text-align: right;\">\n",
       "      <th></th>\n",
       "      <th>0</th>\n",
       "      <th>1</th>\n",
       "      <th>2</th>\n",
       "      <th>3</th>\n",
       "      <th>4</th>\n",
       "      <th>5</th>\n",
       "      <th>6</th>\n",
       "      <th>7</th>\n",
       "      <th>8</th>\n",
       "      <th>9</th>\n",
       "      <th>...</th>\n",
       "      <th>44</th>\n",
       "      <th>45</th>\n",
       "      <th>46</th>\n",
       "      <th>47</th>\n",
       "      <th>48</th>\n",
       "      <th>49</th>\n",
       "      <th>50</th>\n",
       "      <th>51</th>\n",
       "      <th>52</th>\n",
       "      <th>label</th>\n",
       "    </tr>\n",
       "  </thead>\n",
       "  <tbody>\n",
       "    <tr>\n",
       "      <th>0</th>\n",
       "      <td>1280665.0</td>\n",
       "      <td>5735.0</td>\n",
       "      <td>121.0</td>\n",
       "      <td>1.0</td>\n",
       "      <td>0.0</td>\n",
       "      <td>978.0</td>\n",
       "      <td>5.0</td>\n",
       "      <td>4.0</td>\n",
       "      <td>0.0</td>\n",
       "      <td>1.0</td>\n",
       "      <td>...</td>\n",
       "      <td>0.0</td>\n",
       "      <td>0.0</td>\n",
       "      <td>0.0</td>\n",
       "      <td>0.0</td>\n",
       "      <td>2.99</td>\n",
       "      <td>0.00</td>\n",
       "      <td>0.0</td>\n",
       "      <td>0.00</td>\n",
       "      <td>0.00</td>\n",
       "      <td>0.0</td>\n",
       "    </tr>\n",
       "    <tr>\n",
       "      <th>1</th>\n",
       "      <td>336463.0</td>\n",
       "      <td>5977.0</td>\n",
       "      <td>67.0</td>\n",
       "      <td>1.0</td>\n",
       "      <td>0.0</td>\n",
       "      <td>978.0</td>\n",
       "      <td>5.0</td>\n",
       "      <td>3.0</td>\n",
       "      <td>0.0</td>\n",
       "      <td>1.0</td>\n",
       "      <td>...</td>\n",
       "      <td>0.0</td>\n",
       "      <td>0.0</td>\n",
       "      <td>0.0</td>\n",
       "      <td>0.0</td>\n",
       "      <td>0.00</td>\n",
       "      <td>78.00</td>\n",
       "      <td>0.0</td>\n",
       "      <td>78.00</td>\n",
       "      <td>78.00</td>\n",
       "      <td>0.0</td>\n",
       "    </tr>\n",
       "    <tr>\n",
       "      <th>2</th>\n",
       "      <td>899868.0</td>\n",
       "      <td>5651.0</td>\n",
       "      <td>67.0</td>\n",
       "      <td>1.0</td>\n",
       "      <td>0.0</td>\n",
       "      <td>978.0</td>\n",
       "      <td>5.0</td>\n",
       "      <td>4.0</td>\n",
       "      <td>0.0</td>\n",
       "      <td>1.0</td>\n",
       "      <td>...</td>\n",
       "      <td>0.0</td>\n",
       "      <td>0.0</td>\n",
       "      <td>0.0</td>\n",
       "      <td>0.0</td>\n",
       "      <td>0.00</td>\n",
       "      <td>0.00</td>\n",
       "      <td>0.0</td>\n",
       "      <td>0.00</td>\n",
       "      <td>0.00</td>\n",
       "      <td>0.0</td>\n",
       "    </tr>\n",
       "    <tr>\n",
       "      <th>3</th>\n",
       "      <td>2177924.0</td>\n",
       "      <td>5691.0</td>\n",
       "      <td>16.0</td>\n",
       "      <td>0.0</td>\n",
       "      <td>0.0</td>\n",
       "      <td>978.0</td>\n",
       "      <td>0.0</td>\n",
       "      <td>2.0</td>\n",
       "      <td>1.0</td>\n",
       "      <td>0.0</td>\n",
       "      <td>...</td>\n",
       "      <td>89.6</td>\n",
       "      <td>89.6</td>\n",
       "      <td>0.0</td>\n",
       "      <td>0.0</td>\n",
       "      <td>0.00</td>\n",
       "      <td>259.74</td>\n",
       "      <td>89.6</td>\n",
       "      <td>259.74</td>\n",
       "      <td>259.74</td>\n",
       "      <td>0.0</td>\n",
       "    </tr>\n",
       "    <tr>\n",
       "      <th>4</th>\n",
       "      <td>1280665.0</td>\n",
       "      <td>5735.0</td>\n",
       "      <td>121.0</td>\n",
       "      <td>1.0</td>\n",
       "      <td>0.0</td>\n",
       "      <td>978.0</td>\n",
       "      <td>5.0</td>\n",
       "      <td>4.0</td>\n",
       "      <td>0.0</td>\n",
       "      <td>1.0</td>\n",
       "      <td>...</td>\n",
       "      <td>0.0</td>\n",
       "      <td>0.0</td>\n",
       "      <td>0.0</td>\n",
       "      <td>0.0</td>\n",
       "      <td>0.00</td>\n",
       "      <td>0.00</td>\n",
       "      <td>0.0</td>\n",
       "      <td>0.00</td>\n",
       "      <td>0.00</td>\n",
       "      <td>0.0</td>\n",
       "    </tr>\n",
       "  </tbody>\n",
       "</table>\n",
       "<p>5 rows × 54 columns</p>\n",
       "</div>"
      ],
      "text/plain": [
       "           0       1      2    3    4      5    6    7    8    9  ...      44  \\\n",
       "0  1280665.0  5735.0  121.0  1.0  0.0  978.0  5.0  4.0  0.0  1.0  ...     0.0   \n",
       "1   336463.0  5977.0   67.0  1.0  0.0  978.0  5.0  3.0  0.0  1.0  ...     0.0   \n",
       "2   899868.0  5651.0   67.0  1.0  0.0  978.0  5.0  4.0  0.0  1.0  ...     0.0   \n",
       "3  2177924.0  5691.0   16.0  0.0  0.0  978.0  0.0  2.0  1.0  0.0  ...    89.6   \n",
       "4  1280665.0  5735.0  121.0  1.0  0.0  978.0  5.0  4.0  0.0  1.0  ...     0.0   \n",
       "\n",
       "     45   46   47    48      49    50      51      52  label  \n",
       "0   0.0  0.0  0.0  2.99    0.00   0.0    0.00    0.00    0.0  \n",
       "1   0.0  0.0  0.0  0.00   78.00   0.0   78.00   78.00    0.0  \n",
       "2   0.0  0.0  0.0  0.00    0.00   0.0    0.00    0.00    0.0  \n",
       "3  89.6  0.0  0.0  0.00  259.74  89.6  259.74  259.74    0.0  \n",
       "4   0.0  0.0  0.0  0.00    0.00   0.0    0.00    0.00    0.0  \n",
       "\n",
       "[5 rows x 54 columns]"
      ]
     },
     "execution_count": 84,
     "metadata": {},
     "output_type": "execute_result"
    }
   ],
   "source": [
    "df_train.head()"
   ]
  },
  {
   "cell_type": "code",
   "execution_count": 85,
   "metadata": {
    "collapsed": false
   },
   "outputs": [
    {
     "data": {
      "text/html": [
       "<div>\n",
       "<style scoped>\n",
       "    .dataframe tbody tr th:only-of-type {\n",
       "        vertical-align: middle;\n",
       "    }\n",
       "\n",
       "    .dataframe tbody tr th {\n",
       "        vertical-align: top;\n",
       "    }\n",
       "\n",
       "    .dataframe thead th {\n",
       "        text-align: right;\n",
       "    }\n",
       "</style>\n",
       "<table border=\"1\" class=\"dataframe\">\n",
       "  <thead>\n",
       "    <tr style=\"text-align: right;\">\n",
       "      <th></th>\n",
       "      <th>0</th>\n",
       "      <th>1</th>\n",
       "      <th>2</th>\n",
       "      <th>3</th>\n",
       "      <th>4</th>\n",
       "      <th>5</th>\n",
       "      <th>6</th>\n",
       "      <th>7</th>\n",
       "      <th>8</th>\n",
       "      <th>9</th>\n",
       "      <th>...</th>\n",
       "      <th>44</th>\n",
       "      <th>45</th>\n",
       "      <th>46</th>\n",
       "      <th>47</th>\n",
       "      <th>48</th>\n",
       "      <th>49</th>\n",
       "      <th>50</th>\n",
       "      <th>51</th>\n",
       "      <th>52</th>\n",
       "      <th>label</th>\n",
       "    </tr>\n",
       "  </thead>\n",
       "  <tbody>\n",
       "    <tr>\n",
       "      <th>count</th>\n",
       "      <td>1.000000e+05</td>\n",
       "      <td>100000.000000</td>\n",
       "      <td>100000.000000</td>\n",
       "      <td>100000.000000</td>\n",
       "      <td>100000.000000</td>\n",
       "      <td>100000.000000</td>\n",
       "      <td>100000.00000</td>\n",
       "      <td>100000.000000</td>\n",
       "      <td>100000.000000</td>\n",
       "      <td>100000.000000</td>\n",
       "      <td>...</td>\n",
       "      <td>100000.000000</td>\n",
       "      <td>100000.000000</td>\n",
       "      <td>100000.000000</td>\n",
       "      <td>100000.000000</td>\n",
       "      <td>100000.000000</td>\n",
       "      <td>100000.000000</td>\n",
       "      <td>100000.000000</td>\n",
       "      <td>100000.000000</td>\n",
       "      <td>100000.000000</td>\n",
       "      <td>100000.000000</td>\n",
       "    </tr>\n",
       "    <tr>\n",
       "      <th>mean</th>\n",
       "      <td>1.153017e+06</td>\n",
       "      <td>5789.592100</td>\n",
       "      <td>66.060790</td>\n",
       "      <td>0.527930</td>\n",
       "      <td>0.064770</td>\n",
       "      <td>950.622050</td>\n",
       "      <td>2.91140</td>\n",
       "      <td>2.935490</td>\n",
       "      <td>0.435090</td>\n",
       "      <td>0.585130</td>\n",
       "      <td>...</td>\n",
       "      <td>53.999384</td>\n",
       "      <td>48.141110</td>\n",
       "      <td>28.247964</td>\n",
       "      <td>41.570204</td>\n",
       "      <td>82.746682</td>\n",
       "      <td>80.435257</td>\n",
       "      <td>51.255593</td>\n",
       "      <td>67.784037</td>\n",
       "      <td>80.320324</td>\n",
       "      <td>0.002130</td>\n",
       "    </tr>\n",
       "    <tr>\n",
       "      <th>std</th>\n",
       "      <td>7.408450e+05</td>\n",
       "      <td>998.402186</td>\n",
       "      <td>56.379468</td>\n",
       "      <td>0.499222</td>\n",
       "      <td>0.246121</td>\n",
       "      <td>113.129153</td>\n",
       "      <td>2.58682</td>\n",
       "      <td>0.943153</td>\n",
       "      <td>0.495771</td>\n",
       "      <td>0.492702</td>\n",
       "      <td>...</td>\n",
       "      <td>1218.064010</td>\n",
       "      <td>1210.159503</td>\n",
       "      <td>1138.933516</td>\n",
       "      <td>1192.381318</td>\n",
       "      <td>1343.725633</td>\n",
       "      <td>1226.869895</td>\n",
       "      <td>1211.007185</td>\n",
       "      <td>1216.991705</td>\n",
       "      <td>1231.975149</td>\n",
       "      <td>0.046103</td>\n",
       "    </tr>\n",
       "    <tr>\n",
       "      <th>min</th>\n",
       "      <td>6.200000e+01</td>\n",
       "      <td>742.000000</td>\n",
       "      <td>0.000000</td>\n",
       "      <td>0.000000</td>\n",
       "      <td>0.000000</td>\n",
       "      <td>-1.000000</td>\n",
       "      <td>0.00000</td>\n",
       "      <td>0.000000</td>\n",
       "      <td>0.000000</td>\n",
       "      <td>0.000000</td>\n",
       "      <td>...</td>\n",
       "      <td>0.000000</td>\n",
       "      <td>0.000000</td>\n",
       "      <td>0.000000</td>\n",
       "      <td>0.000000</td>\n",
       "      <td>0.000000</td>\n",
       "      <td>0.000000</td>\n",
       "      <td>0.000000</td>\n",
       "      <td>0.000000</td>\n",
       "      <td>0.000000</td>\n",
       "      <td>0.000000</td>\n",
       "    </tr>\n",
       "    <tr>\n",
       "      <th>25%</th>\n",
       "      <td>4.790780e+05</td>\n",
       "      <td>5411.000000</td>\n",
       "      <td>16.000000</td>\n",
       "      <td>0.000000</td>\n",
       "      <td>0.000000</td>\n",
       "      <td>978.000000</td>\n",
       "      <td>0.00000</td>\n",
       "      <td>2.000000</td>\n",
       "      <td>0.000000</td>\n",
       "      <td>0.000000</td>\n",
       "      <td>...</td>\n",
       "      <td>0.000000</td>\n",
       "      <td>0.000000</td>\n",
       "      <td>0.000000</td>\n",
       "      <td>0.000000</td>\n",
       "      <td>0.000000</td>\n",
       "      <td>0.000000</td>\n",
       "      <td>0.000000</td>\n",
       "      <td>0.000000</td>\n",
       "      <td>0.000000</td>\n",
       "      <td>0.000000</td>\n",
       "    </tr>\n",
       "    <tr>\n",
       "      <th>50%</th>\n",
       "      <td>1.060490e+06</td>\n",
       "      <td>5735.000000</td>\n",
       "      <td>67.000000</td>\n",
       "      <td>1.000000</td>\n",
       "      <td>0.000000</td>\n",
       "      <td>978.000000</td>\n",
       "      <td>5.00000</td>\n",
       "      <td>3.000000</td>\n",
       "      <td>0.000000</td>\n",
       "      <td>1.000000</td>\n",
       "      <td>...</td>\n",
       "      <td>0.000000</td>\n",
       "      <td>0.000000</td>\n",
       "      <td>0.000000</td>\n",
       "      <td>0.000000</td>\n",
       "      <td>0.000000</td>\n",
       "      <td>0.000000</td>\n",
       "      <td>0.000000</td>\n",
       "      <td>0.000000</td>\n",
       "      <td>0.000000</td>\n",
       "      <td>0.000000</td>\n",
       "    </tr>\n",
       "    <tr>\n",
       "      <th>75%</th>\n",
       "      <td>2.003550e+06</td>\n",
       "      <td>5968.000000</td>\n",
       "      <td>95.000000</td>\n",
       "      <td>1.000000</td>\n",
       "      <td>0.000000</td>\n",
       "      <td>978.000000</td>\n",
       "      <td>5.00000</td>\n",
       "      <td>4.000000</td>\n",
       "      <td>1.000000</td>\n",
       "      <td>1.000000</td>\n",
       "      <td>...</td>\n",
       "      <td>0.000000</td>\n",
       "      <td>0.000000</td>\n",
       "      <td>0.000000</td>\n",
       "      <td>0.000000</td>\n",
       "      <td>0.010000</td>\n",
       "      <td>21.300000</td>\n",
       "      <td>0.000000</td>\n",
       "      <td>7.000000</td>\n",
       "      <td>18.200000</td>\n",
       "      <td>0.000000</td>\n",
       "    </tr>\n",
       "    <tr>\n",
       "      <th>max</th>\n",
       "      <td>2.386839e+06</td>\n",
       "      <td>9999.000000</td>\n",
       "      <td>224.000000</td>\n",
       "      <td>1.000000</td>\n",
       "      <td>1.000000</td>\n",
       "      <td>986.000000</td>\n",
       "      <td>9.00000</td>\n",
       "      <td>5.000000</td>\n",
       "      <td>1.000000</td>\n",
       "      <td>1.000000</td>\n",
       "      <td>...</td>\n",
       "      <td>203038.000000</td>\n",
       "      <td>203038.000000</td>\n",
       "      <td>203038.000000</td>\n",
       "      <td>203038.000000</td>\n",
       "      <td>203038.000000</td>\n",
       "      <td>203038.000000</td>\n",
       "      <td>203038.000000</td>\n",
       "      <td>203038.000000</td>\n",
       "      <td>203038.000000</td>\n",
       "      <td>1.000000</td>\n",
       "    </tr>\n",
       "  </tbody>\n",
       "</table>\n",
       "<p>8 rows × 54 columns</p>\n",
       "</div>"
      ],
      "text/plain": [
       "                  0              1              2              3  \\\n",
       "count  1.000000e+05  100000.000000  100000.000000  100000.000000   \n",
       "mean   1.153017e+06    5789.592100      66.060790       0.527930   \n",
       "std    7.408450e+05     998.402186      56.379468       0.499222   \n",
       "min    6.200000e+01     742.000000       0.000000       0.000000   \n",
       "25%    4.790780e+05    5411.000000      16.000000       0.000000   \n",
       "50%    1.060490e+06    5735.000000      67.000000       1.000000   \n",
       "75%    2.003550e+06    5968.000000      95.000000       1.000000   \n",
       "max    2.386839e+06    9999.000000     224.000000       1.000000   \n",
       "\n",
       "                   4              5             6              7  \\\n",
       "count  100000.000000  100000.000000  100000.00000  100000.000000   \n",
       "mean        0.064770     950.622050       2.91140       2.935490   \n",
       "std         0.246121     113.129153       2.58682       0.943153   \n",
       "min         0.000000      -1.000000       0.00000       0.000000   \n",
       "25%         0.000000     978.000000       0.00000       2.000000   \n",
       "50%         0.000000     978.000000       5.00000       3.000000   \n",
       "75%         0.000000     978.000000       5.00000       4.000000   \n",
       "max         1.000000     986.000000       9.00000       5.000000   \n",
       "\n",
       "                   8              9      ...                   44  \\\n",
       "count  100000.000000  100000.000000      ...        100000.000000   \n",
       "mean        0.435090       0.585130      ...            53.999384   \n",
       "std         0.495771       0.492702      ...          1218.064010   \n",
       "min         0.000000       0.000000      ...             0.000000   \n",
       "25%         0.000000       0.000000      ...             0.000000   \n",
       "50%         0.000000       1.000000      ...             0.000000   \n",
       "75%         1.000000       1.000000      ...             0.000000   \n",
       "max         1.000000       1.000000      ...        203038.000000   \n",
       "\n",
       "                  45             46             47             48  \\\n",
       "count  100000.000000  100000.000000  100000.000000  100000.000000   \n",
       "mean       48.141110      28.247964      41.570204      82.746682   \n",
       "std      1210.159503    1138.933516    1192.381318    1343.725633   \n",
       "min         0.000000       0.000000       0.000000       0.000000   \n",
       "25%         0.000000       0.000000       0.000000       0.000000   \n",
       "50%         0.000000       0.000000       0.000000       0.000000   \n",
       "75%         0.000000       0.000000       0.000000       0.010000   \n",
       "max    203038.000000  203038.000000  203038.000000  203038.000000   \n",
       "\n",
       "                  49             50             51             52  \\\n",
       "count  100000.000000  100000.000000  100000.000000  100000.000000   \n",
       "mean       80.435257      51.255593      67.784037      80.320324   \n",
       "std      1226.869895    1211.007185    1216.991705    1231.975149   \n",
       "min         0.000000       0.000000       0.000000       0.000000   \n",
       "25%         0.000000       0.000000       0.000000       0.000000   \n",
       "50%         0.000000       0.000000       0.000000       0.000000   \n",
       "75%        21.300000       0.000000       7.000000      18.200000   \n",
       "max    203038.000000  203038.000000  203038.000000  203038.000000   \n",
       "\n",
       "               label  \n",
       "count  100000.000000  \n",
       "mean        0.002130  \n",
       "std         0.046103  \n",
       "min         0.000000  \n",
       "25%         0.000000  \n",
       "50%         0.000000  \n",
       "75%         0.000000  \n",
       "max         1.000000  \n",
       "\n",
       "[8 rows x 54 columns]"
      ]
     },
     "execution_count": 85,
     "metadata": {},
     "output_type": "execute_result"
    }
   ],
   "source": [
    "df_train.describe()"
   ]
  },
  {
   "cell_type": "markdown",
   "metadata": {},
   "source": [
    "# Data Exploration and Treatement "
   ]
  },
  {
   "cell_type": "code",
   "execution_count": 86,
   "metadata": {
    "collapsed": true
   },
   "outputs": [],
   "source": [
    "## first 21 elements are categories and remaining floats\n",
    "for i in range(21):\n",
    "    df_train[i] = df_train[i].astype('category')\n"
   ]
  },
  {
   "cell_type": "code",
   "execution_count": 87,
   "metadata": {
    "collapsed": false,
    "scrolled": true
   },
   "outputs": [
    {
     "name": "stdout",
     "output_type": "stream",
     "text": [
      "Number of Nan values = 0\n",
      "Number of attributes with zero variance = 0\n",
      "Number of attributes with high variance = 1\n"
     ]
    }
   ],
   "source": [
    "\"\"\"\n",
    "Everything seems just fine, except for column 0 \n",
    "\"\"\"\n",
    "## Check for NaNs\n",
    "temp_ls = df_train.isnull().any().tolist()\n",
    "print(\"Number of Nan values = {}\".format(sum(temp_ls)))\n",
    "\n",
    "## Check for zero variance \n",
    "zero_var = 0\n",
    "for i in range(53):\n",
    "    if len(df_train[i].value_counts()) == 1:\n",
    "        zero_var += 1\n",
    "print(\"Number of attributes with zero variance = {}\".format(zero_var))\n",
    "\n",
    "## Check of high variation \n",
    "high_var = 0\n",
    "temp_ls = list()\n",
    "for i in range(21): # only first 21 elements are categorical\n",
    "    if len(df_train[i].value_counts()) >= df_train.shape[0]/3:\n",
    "        temp_ls.append(i)\n",
    "        high_var += 1\n",
    "print(\"Number of attributes with high variance = {}\".format(high_var))\n",
    "\n",
    "df_train.drop(temp_ls, axis = 1, inplace = True)# drop columns in temp_ls"
   ]
  },
  {
   "cell_type": "code",
   "execution_count": 88,
   "metadata": {
    "collapsed": false,
    "scrolled": true
   },
   "outputs": [
    {
     "data": {
      "text/plain": [
       "1        category\n",
       "2        category\n",
       "3        category\n",
       "4        category\n",
       "5        category\n",
       "6        category\n",
       "7        category\n",
       "8        category\n",
       "9        category\n",
       "10       category\n",
       "11       category\n",
       "12       category\n",
       "13       category\n",
       "14       category\n",
       "15       category\n",
       "16       category\n",
       "17       category\n",
       "18       category\n",
       "19       category\n",
       "20       category\n",
       "21        float64\n",
       "22        float64\n",
       "23        float64\n",
       "24        float64\n",
       "25        float64\n",
       "26        float64\n",
       "27        float64\n",
       "28        float64\n",
       "29        float64\n",
       "30        float64\n",
       "31        float64\n",
       "32        float64\n",
       "33        float64\n",
       "34        float64\n",
       "35        float64\n",
       "36        float64\n",
       "37        float64\n",
       "38        float64\n",
       "39        float64\n",
       "40        float64\n",
       "41        float64\n",
       "42        float64\n",
       "43        float64\n",
       "44        float64\n",
       "45        float64\n",
       "46        float64\n",
       "47        float64\n",
       "48        float64\n",
       "49        float64\n",
       "50        float64\n",
       "51        float64\n",
       "52        float64\n",
       "label     float64\n",
       "dtype: object"
      ]
     },
     "execution_count": 88,
     "metadata": {},
     "output_type": "execute_result"
    }
   ],
   "source": [
    "df_train.dtypes"
   ]
  },
  {
   "cell_type": "code",
   "execution_count": 89,
   "metadata": {
    "collapsed": false
   },
   "outputs": [
    {
     "data": {
      "text/plain": [
       "0.0    99787\n",
       "1.0      213\n",
       "Name: label, dtype: int64"
      ]
     },
     "execution_count": 89,
     "metadata": {},
     "output_type": "execute_result"
    }
   ],
   "source": [
    "## 0.2% are fraudulent data\n",
    "df_train['label'].value_counts()"
   ]
  },
  {
   "cell_type": "code",
   "execution_count": 90,
   "metadata": {
    "collapsed": false,
    "scrolled": true
   },
   "outputs": [
    {
     "name": "stderr",
     "output_type": "stream",
     "text": [
      "/Users/allwynjoseph/anaconda/lib/python3.6/site-packages/sklearn/utils/validation.py:475: DataConversionWarning: Data with input dtype object was converted to float64 by MinMaxScaler.\n",
      "  warnings.warn(msg, DataConversionWarning)\n"
     ]
    }
   ],
   "source": [
    "## Normalizing \n",
    "x = df_train.values[:,20:-1] #returns a numpy array\n",
    "min_max_scaler = preprocessing.MinMaxScaler()\n",
    "x_scaled = min_max_scaler.fit_transform(x)\n",
    "\n",
    "## Delete existing numerical columns and replacing with normalised version\n",
    "col_name = [i for i in range(21, 53)]\n",
    "df_temp = pd.DataFrame(x_scaled, columns= col_name)\n",
    "df_train.drop(col_name, axis = 1, inplace = True)\n",
    "df_train = df_train.merge(df_temp,left_index=True, right_index=True)\n",
    "\n",
    "## Adding label to end of dataframe\n",
    "temp_ls = df_train['label'].tolist()\n",
    "df_train.drop('label', axis = 1, inplace = True)\n",
    "df_train['label'] = temp_ls\n",
    "df_train['label'] = df_train['label'].astype('category')"
   ]
  },
  {
   "cell_type": "code",
   "execution_count": 91,
   "metadata": {
    "collapsed": false
   },
   "outputs": [
    {
     "data": {
      "image/png": "[encoded data removed]",
      "text/plain": [
       "<matplotlib.figure.Figure at 0x1a2e9e7908>"
      ]
     },
     "metadata": {},
     "output_type": "display_data"
    }
   ],
   "source": [
    "## Finding correlated features\n",
    "f, ax = plt.subplots(figsize=(5, 5))\n",
    "corr = df_train.corr()\n",
    "sns.heatmap(corr, mask=np.zeros_like(corr, dtype=np.bool), cmap=sns.diverging_palette(220, 10, as_cmap=True),\n",
    "            square=True, ax=ax,)\n",
    "plt.show()"
   ]
  },
  {
   "cell_type": "code",
   "execution_count": 92,
   "metadata": {
    "collapsed": false
   },
   "outputs": [],
   "source": [
    "## Delete highly correlated terms (corr > 0.98)\n",
    "temp_ls = list()\n",
    "for i in corr.columns:\n",
    "    for j in range(i,len(corr.columns)+21):\n",
    "        if corr[i][j] > 0.98 and i != j: temp_ls.append((i,j))\n",
    "\n",
    "temp_ls = [j for(i,j) in temp_ls]\n",
    "df_train.drop(set(temp_ls), axis = 1, inplace = True)"
   ]
  },
  {
   "cell_type": "code",
   "execution_count": 12,
   "metadata": {
    "collapsed": false
   },
   "outputs": [],
   "source": [
    "## Get list of binary attributes \n",
    "temp_ls = list()\n",
    "for i in range(1,21):\n",
    "    temp = len(df_train[i].value_counts())\n",
    "    if temp <= 2: temp_ls.append(i)\n",
    "temp_ls.append('label')\n",
    "\n",
    "## Converting df to one-hot representation\n",
    "cols_oh = [i  for i in range(1,21) if i not in temp_ls]\n",
    "df_train_oh = pd.get_dummies(df_train, columns = cols_oh, sparse = True)"
   ]
  },
  {
   "cell_type": "markdown",
   "metadata": {},
   "source": [
    "# Machine Learning Models"
   ]
  },
  {
   "cell_type": "code",
   "execution_count": 13,
   "metadata": {
    "collapsed": false
   },
   "outputs": [
    {
     "name": "stderr",
     "output_type": "stream",
     "text": [
      "/Users/allwynjoseph/anaconda/lib/python3.6/site-packages/ipykernel/__main__.py:2: FutureWarning: Method .as_matrix will be removed in a future version. Use .values instead.\n",
      "  from ipykernel import kernelapp as app\n",
      "/Users/allwynjoseph/anaconda/lib/python3.6/site-packages/ipykernel/__main__.py:3: FutureWarning: Method .as_matrix will be removed in a future version. Use .values instead.\n",
      "  app.launch_new_instance()\n"
     ]
    }
   ],
   "source": [
    "X = df_train.drop('label', axis = 1)\n",
    "X = X.as_matrix()\n",
    "Y = df_train['label'].as_matrix()\n",
    "Y = Y.astype('int')\n",
    "\n",
    "## Train - Test split\n",
    "X_train, X_test, Y_train, Y_test = train_test_split(X, Y, test_size=0.2, random_state=42)"
   ]
  },
  {
   "cell_type": "markdown",
   "metadata": {},
   "source": [
    "## Basic Models - Weighted"
   ]
  },
  {
   "cell_type": "markdown",
   "metadata": {},
   "source": [
    "Here I would test some SOTA machine learning models like, logistic regression, SVMs, decision trees, Random forest, Adaboost etc"
   ]
  },
  {
   "cell_type": "markdown",
   "metadata": {},
   "source": [
    "### Logistic Regression - Non-weighted"
   ]
  },
  {
   "cell_type": "code",
   "execution_count": 249,
   "metadata": {
    "collapsed": false,
    "scrolled": true
   },
   "outputs": [
    {
     "data": {
      "text/plain": [
       "LogisticRegression(C=1.0, class_weight=None, dual=False, fit_intercept=True,\n",
       "          intercept_scaling=1, max_iter=100, multi_class='ovr', n_jobs=1,\n",
       "          penalty='l2', random_state=None, solver='liblinear', tol=0.0001,\n",
       "          verbose=0, warm_start=False)"
      ]
     },
     "execution_count": 249,
     "metadata": {},
     "output_type": "execute_result"
    }
   ],
   "source": [
    "clf = LogisticRegression()\n",
    "clf.fit(X_train, Y_train)"
   ]
  },
  {
   "cell_type": "code",
   "execution_count": 250,
   "metadata": {
    "collapsed": false
   },
   "outputs": [
    {
     "name": "stdout",
     "output_type": "stream",
     "text": [
      "             precision    recall  f1-score   support\n",
      "\n",
      "        0.0       1.00      1.00      1.00     19955\n",
      "        1.0       0.67      0.04      0.08        45\n",
      "\n",
      "avg / total       1.00      1.00      1.00     20000\n",
      "\n"
     ]
    }
   ],
   "source": [
    "print(classification_report(Y_test, clf.predict(X_test)))"
   ]
  },
  {
   "cell_type": "markdown",
   "metadata": {},
   "source": [
    "### Logistic Regression - Weighted"
   ]
  },
  {
   "cell_type": "code",
   "execution_count": 238,
   "metadata": {
    "collapsed": false
   },
   "outputs": [
    {
     "data": {
      "text/plain": [
       "LogisticRegression(C=1.0, class_weight='balanced', dual=False,\n",
       "          fit_intercept=True, intercept_scaling=1, max_iter=100,\n",
       "          multi_class='ovr', n_jobs=1, penalty='l2', random_state=None,\n",
       "          solver='liblinear', tol=0.0001, verbose=0, warm_start=False)"
      ]
     },
     "execution_count": 238,
     "metadata": {},
     "output_type": "execute_result"
    }
   ],
   "source": [
    "clf = LogisticRegression(class_weight= 'balanced')\n",
    "clf.fit(X_train, Y_train)"
   ]
  },
  {
   "cell_type": "code",
   "execution_count": 240,
   "metadata": {
    "collapsed": false
   },
   "outputs": [
    {
     "name": "stdout",
     "output_type": "stream",
     "text": [
      "             precision    recall  f1-score   support\n",
      "\n",
      "        0.0       1.00      0.97      0.98     19955\n",
      "        1.0       0.02      0.29      0.04        45\n",
      "\n",
      "avg / total       1.00      0.97      0.98     20000\n",
      "\n"
     ]
    }
   ],
   "source": [
    "print(classification_report(Y_test, clf.predict(X_test)))"
   ]
  },
  {
   "cell_type": "code",
   "execution_count": 241,
   "metadata": {
    "collapsed": false
   },
   "outputs": [
    {
     "name": "stdout",
     "output_type": "stream",
     "text": [
      "[[19339   616]\n",
      " [   32    13]]\n"
     ]
    }
   ],
   "source": [
    "print(confusion_matrix(Y_test, clf.predict(X_test)))"
   ]
  },
  {
   "cell_type": "markdown",
   "metadata": {},
   "source": [
    "### Decision Trees - Weighted"
   ]
  },
  {
   "cell_type": "code",
   "execution_count": 313,
   "metadata": {
    "collapsed": false
   },
   "outputs": [
    {
     "data": {
      "text/plain": [
       "DecisionTreeClassifier(class_weight='balanced', criterion='gini',\n",
       "            max_depth=None, max_features=None, max_leaf_nodes=None,\n",
       "            min_impurity_decrease=0.0, min_impurity_split=None,\n",
       "            min_samples_leaf=1, min_samples_split=2,\n",
       "            min_weight_fraction_leaf=0.0, presort=False, random_state=None,\n",
       "            splitter='best')"
      ]
     },
     "execution_count": 313,
     "metadata": {},
     "output_type": "execute_result"
    }
   ],
   "source": [
    "clf = DecisionTreeClassifier(class_weight = 'balanced')\n",
    "clf.fit(X_train, Y_train)"
   ]
  },
  {
   "cell_type": "code",
   "execution_count": 314,
   "metadata": {
    "collapsed": false
   },
   "outputs": [
    {
     "name": "stdout",
     "output_type": "stream",
     "text": [
      "             precision    recall  f1-score   support\n",
      "\n",
      "        0.0       1.00      1.00      1.00     19955\n",
      "        1.0       0.12      0.22      0.15        45\n",
      "\n",
      "avg / total       1.00      0.99      1.00     20000\n",
      "\n"
     ]
    }
   ],
   "source": [
    "print(classification_report(Y_test, clf.predict(X_test)))"
   ]
  },
  {
   "cell_type": "code",
   "execution_count": 315,
   "metadata": {
    "collapsed": false
   },
   "outputs": [
    {
     "name": "stdout",
     "output_type": "stream",
     "text": [
      "[[19880    75]\n",
      " [   35    10]]\n"
     ]
    }
   ],
   "source": [
    "print(confusion_matrix(Y_test, clf.predict(X_test)))"
   ]
  },
  {
   "cell_type": "markdown",
   "metadata": {},
   "source": [
    "### Random Forest - Weighted"
   ]
  },
  {
   "cell_type": "code",
   "execution_count": 245,
   "metadata": {
    "collapsed": false
   },
   "outputs": [
    {
     "data": {
      "text/plain": [
       "GridSearchCV(cv=None, error_score='raise',\n",
       "       estimator=RandomForestClassifier(bootstrap=True, class_weight=None, criterion='gini',\n",
       "            max_depth=None, max_features='auto', max_leaf_nodes=None,\n",
       "            min_impurity_decrease=0.0, min_impurity_split=None,\n",
       "            min_samples_leaf=1, min_samples_split=2,\n",
       "            min_weight_fraction_leaf=0.0, n_estimators=10, n_jobs=1,\n",
       "            oob_score=False, random_state=None, verbose=0,\n",
       "            warm_start=False),\n",
       "       fit_params=None, iid=True, n_jobs=1,\n",
       "       param_grid={'n_estimators': [100], 'max_features': ['auto'], 'criterion': ['entropy']},\n",
       "       pre_dispatch='2*n_jobs', refit=True, return_train_score='warn',\n",
       "       scoring=None, verbose=0)"
      ]
     },
     "execution_count": 245,
     "metadata": {},
     "output_type": "execute_result"
    }
   ],
   "source": [
    "clf_base = RandomForestClassifier()\n",
    "grid  = {'n_estimators' :[100],\n",
    "         'max_features' : ['auto'],\n",
    "         'criterion' : ['entropy']}\n",
    "clf = GridSearchCV(clf_base, grid)\n",
    "clf.fit(X_train, Y_train)"
   ]
  },
  {
   "cell_type": "code",
   "execution_count": 247,
   "metadata": {
    "collapsed": false
   },
   "outputs": [
    {
     "name": "stdout",
     "output_type": "stream",
     "text": [
      "             precision    recall  f1-score   support\n",
      "\n",
      "        0.0       1.00      1.00      1.00     19955\n",
      "        1.0       1.00      0.09      0.16        45\n",
      "\n",
      "avg / total       1.00      1.00      1.00     20000\n",
      "\n"
     ]
    }
   ],
   "source": [
    "print(classification_report(Y_test, clf.predict(X_test)))"
   ]
  },
  {
   "cell_type": "code",
   "execution_count": 248,
   "metadata": {
    "collapsed": false
   },
   "outputs": [
    {
     "name": "stdout",
     "output_type": "stream",
     "text": [
      "[[19955     0]\n",
      " [   41     4]]\n"
     ]
    }
   ],
   "source": [
    "print(confusion_matrix(Y_test, clf.predict(X_test)))"
   ]
  },
  {
   "cell_type": "markdown",
   "metadata": {},
   "source": [
    "## Ensemble Methods"
   ]
  },
  {
   "cell_type": "markdown",
   "metadata": {},
   "source": [
    "### Easy Ensemble - Logistic Regresssion"
   ]
  },
  {
   "cell_type": "code",
   "execution_count": 51,
   "metadata": {
    "collapsed": false
   },
   "outputs": [],
   "source": [
    "ens = EasyEnsemble(n_subsets= 25)\n",
    "X_train_ee, Y_train_ee = ens.fit_sample(X_train, Y_train)"
   ]
  },
  {
   "cell_type": "code",
   "execution_count": 31,
   "metadata": {
    "collapsed": false
   },
   "outputs": [],
   "source": [
    "y_pred_probs_lr = np.zeros((20000,2))\n",
    "for idx in range(len(Y_train_ee)): \n",
    "    clf_lr = LogisticRegression()\n",
    "    grid  = {'C' : 10.0 ** np.arange(-2,3),\n",
    "             'penalty' : ['l2','l1']}\n",
    "    cv = KFold(n_splits = 3, shuffle = True, random_state=0)\n",
    "    clf_lr_boost = GridSearchCV(clf_lr, grid, cv = cv)\n",
    "    clf_lr_boost.fit(X_train_ee[idx], Y_train_ee[idx])\n",
    "    y_pred_probs_lr += clf_lr_boost.predict_proba(X_test)"
   ]
  },
  {
   "cell_type": "code",
   "execution_count": 32,
   "metadata": {
    "collapsed": false
   },
   "outputs": [
    {
     "name": "stdout",
     "output_type": "stream",
     "text": [
      "             precision    recall  f1-score   support\n",
      "\n",
      "          0       1.00      0.82      0.90     19955\n",
      "          1       0.01      0.89      0.02        45\n",
      "\n",
      "avg / total       1.00      0.82      0.90     20000\n",
      "\n"
     ]
    }
   ],
   "source": [
    "print(classification_report(Y_test, np.argmax(y_pred_probs_lr, axis = 1)))"
   ]
  },
  {
   "cell_type": "code",
   "execution_count": 33,
   "metadata": {
    "collapsed": false
   },
   "outputs": [
    {
     "name": "stdout",
     "output_type": "stream",
     "text": [
      "[[16308  3647]\n",
      " [    5    40]]\n"
     ]
    }
   ],
   "source": [
    "print(confusion_matrix(Y_test, np.argmax(y_pred_probs_lr, axis = 1)))"
   ]
  },
  {
   "cell_type": "markdown",
   "metadata": {},
   "source": [
    "### Easy Ensemble - RandomForest"
   ]
  },
  {
   "cell_type": "code",
   "execution_count": 34,
   "metadata": {
    "collapsed": false
   },
   "outputs": [],
   "source": [
    "y_pred_probs_rf = np.zeros((20000,2))\n",
    "for idx in range(len(Y_train_ee)): \n",
    "    clf_base = RandomForestClassifier()\n",
    "    grid  = {'n_estimators' :[100],\n",
    "             'max_features' : ['auto'],\n",
    "             'criterion' : ['entropy']}\n",
    "    #cv = KFold(n_splits = 5, shuffle = True, random_state = 0)\n",
    "    clf_rf_boost = GridSearchCV(clf_base, grid)\n",
    "    clf_rf_boost.fit(X_train_ee[idx], Y_train_ee[idx])\n",
    "    y_pred_probs_rf += clf_rf_boost.predict_proba(X_test)"
   ]
  },
  {
   "cell_type": "code",
   "execution_count": 35,
   "metadata": {
    "collapsed": false
   },
   "outputs": [
    {
     "name": "stdout",
     "output_type": "stream",
     "text": [
      "             precision    recall  f1-score   support\n",
      "\n",
      "          0       1.00      0.85      0.92     19955\n",
      "          1       0.01      0.91      0.03        45\n",
      "\n",
      "avg / total       1.00      0.85      0.92     20000\n",
      "\n"
     ]
    }
   ],
   "source": [
    "print(classification_report(Y_test, np.argmax(y_pred_probs_rf, axis = 1)))"
   ]
  },
  {
   "cell_type": "code",
   "execution_count": 36,
   "metadata": {
    "collapsed": false
   },
   "outputs": [
    {
     "name": "stdout",
     "output_type": "stream",
     "text": [
      "[[17039  2916]\n",
      " [    4    41]]\n"
     ]
    }
   ],
   "source": [
    "print(confusion_matrix(Y_test, np.argmax(y_pred_probs_rf, axis = 1)))"
   ]
  },
  {
   "cell_type": "markdown",
   "metadata": {},
   "source": [
    "### Easy Ensemble - ADAboost"
   ]
  },
  {
   "cell_type": "code",
   "execution_count": 48,
   "metadata": {
    "collapsed": false,
    "scrolled": true
   },
   "outputs": [],
   "source": [
    "y_pred_probs_ada = np.zeros((20000,2))\n",
    "for idx in range(len(Y_train_ee)): \n",
    "    clf_ada = AdaBoostClassifier()\n",
    "    clf_ada.fit(X_train_ee[idx], Y_train_ee[idx])\n",
    "    y_pred_probs_ada += clf_ada.predict_proba(X_test)"
   ]
  },
  {
   "cell_type": "code",
   "execution_count": 49,
   "metadata": {
    "collapsed": false
   },
   "outputs": [
    {
     "name": "stdout",
     "output_type": "stream",
     "text": [
      "             precision    recall  f1-score   support\n",
      "\n",
      "          0       1.00      0.85      0.92     19955\n",
      "          1       0.01      0.93      0.03        45\n",
      "\n",
      "avg / total       1.00      0.85      0.92     20000\n",
      "\n"
     ]
    }
   ],
   "source": [
    "print(classification_report(Y_test, np.argmax(y_pred_probs_ada, axis = 1)))"
   ]
  },
  {
   "cell_type": "code",
   "execution_count": 50,
   "metadata": {
    "collapsed": false
   },
   "outputs": [
    {
     "name": "stdout",
     "output_type": "stream",
     "text": [
      "[[17049  2906]\n",
      " [    3    42]]\n"
     ]
    }
   ],
   "source": [
    "print(confusion_matrix(Y_test, np.argmax(y_pred_probs_ada, axis = 1)))"
   ]
  },
  {
   "cell_type": "markdown",
   "metadata": {},
   "source": [
    "### Easy Ensemble - XGBOOST"
   ]
  },
  {
   "cell_type": "code",
   "execution_count": 52,
   "metadata": {
    "collapsed": false
   },
   "outputs": [],
   "source": [
    "y_pred_probs_xg = np.zeros((20000,2))\n",
    "for idx in range(len(Y_train_ee)): \n",
    "    clf_xgb = xgb.XGBClassifier()\n",
    "\n",
    "    clf_xgb.fit(X_train_ee[idx], Y_train_ee[idx])\n",
    "    y_pred_probs_xg += clf_xgb.predict_proba(X_test)"
   ]
  },
  {
   "cell_type": "code",
   "execution_count": 53,
   "metadata": {
    "collapsed": false
   },
   "outputs": [
    {
     "name": "stdout",
     "output_type": "stream",
     "text": [
      "             precision    recall  f1-score   support\n",
      "\n",
      "          0       1.00      0.86      0.93     19955\n",
      "          1       0.01      0.93      0.03        45\n",
      "\n",
      "avg / total       1.00      0.86      0.92     20000\n",
      "\n"
     ]
    }
   ],
   "source": [
    "print(classification_report(Y_test, np.argmax(y_pred_probs_xg, axis = 1)))"
   ]
  },
  {
   "cell_type": "code",
   "execution_count": 54,
   "metadata": {
    "collapsed": false
   },
   "outputs": [
    {
     "name": "stdout",
     "output_type": "stream",
     "text": [
      "[[17182  2773]\n",
      " [    3    42]]\n"
     ]
    }
   ],
   "source": [
    "print(confusion_matrix(Y_test, np.argmax(y_pred_probs_xg, axis = 1)))"
   ]
  },
  {
   "cell_type": "markdown",
   "metadata": {},
   "source": [
    "### Balance Cascade - Logistic Regression"
   ]
  },
  {
   "cell_type": "code",
   "execution_count": 15,
   "metadata": {
    "collapsed": false
   },
   "outputs": [],
   "source": [
    "ens = BalanceCascade(classifier = 'adaboost', random_state = 1)\n",
    "X_train_res, Y_train_res = ens.fit_sample(X_train, Y_train)"
   ]
  },
  {
   "cell_type": "code",
   "execution_count": 76,
   "metadata": {
    "collapsed": false,
    "scrolled": true
   },
   "outputs": [],
   "source": [
    "y_pred_probs_lr = np.zeros((20000,2))\n",
    "for idx in range(len(Y_train_res)): \n",
    "    clf_lr = LogisticRegression()\n",
    "    grid  = {'C' : 10.0 ** np.arange(-2,3),\n",
    "             'penalty' : ['l2','l1']}\n",
    "    cv = KFold(n_splits = 3, shuffle = True, random_state=0)\n",
    "    clf_lr_boost = GridSearchCV(clf_lr, grid, cv = cv)\n",
    "    clf_lr_boost.fit(X_train_res[idx], Y_train_res[idx])\n",
    "    y_pred_probs_lr += clf_lr_boost.predict_proba(X_test)"
   ]
  },
  {
   "cell_type": "code",
   "execution_count": 77,
   "metadata": {
    "collapsed": false
   },
   "outputs": [
    {
     "name": "stdout",
     "output_type": "stream",
     "text": [
      "             precision    recall  f1-score   support\n",
      "\n",
      "          0       1.00      0.84      0.91     19955\n",
      "          1       0.01      0.84      0.02        45\n",
      "\n",
      "avg / total       1.00      0.84      0.91     20000\n",
      "\n"
     ]
    }
   ],
   "source": [
    "print(classification_report(Y_test, np.argmax(y_pred_probs_lr, axis = 1)))"
   ]
  },
  {
   "cell_type": "code",
   "execution_count": 78,
   "metadata": {
    "collapsed": false
   },
   "outputs": [
    {
     "name": "stdout",
     "output_type": "stream",
     "text": [
      "[[16767  3188]\n",
      " [    7    38]]\n"
     ]
    }
   ],
   "source": [
    "print(confusion_matrix(Y_test, np.argmax(y_pred_probs_lr, axis = 1)))"
   ]
  },
  {
   "cell_type": "markdown",
   "metadata": {},
   "source": [
    "### Balance Cascade - Random Forest"
   ]
  },
  {
   "cell_type": "code",
   "execution_count": 71,
   "metadata": {
    "collapsed": false,
    "scrolled": true
   },
   "outputs": [
    {
     "name": "stderr",
     "output_type": "stream",
     "text": [
      "  2%|▏         | 10/631 [00:09<09:30,  1.09it/s]/Users/allwynjoseph/anaconda/lib/python3.6/site-packages/tqdm/_monitor.py:89: TqdmSynchronisationWarning: Set changed size during iteration (see https://github.com/tqdm/tqdm/issues/481)\n",
      "  TqdmSynchronisationWarning)\n",
      "  3%|▎         | 21/631 [00:19<09:15,  1.10it/s]/Users/allwynjoseph/anaconda/lib/python3.6/site-packages/tqdm/_monitor.py:89: TqdmSynchronisationWarning: Set changed size during iteration (see https://github.com/tqdm/tqdm/issues/481)\n",
      "  TqdmSynchronisationWarning)\n",
      "  5%|▌         | 32/631 [00:29<09:09,  1.09it/s]/Users/allwynjoseph/anaconda/lib/python3.6/site-packages/tqdm/_monitor.py:89: TqdmSynchronisationWarning: Set changed size during iteration (see https://github.com/tqdm/tqdm/issues/481)\n",
      "  TqdmSynchronisationWarning)\n",
      "  7%|▋         | 43/631 [00:39<08:58,  1.09it/s]/Users/allwynjoseph/anaconda/lib/python3.6/site-packages/tqdm/_monitor.py:89: TqdmSynchronisationWarning: Set changed size during iteration (see https://github.com/tqdm/tqdm/issues/481)\n",
      "  TqdmSynchronisationWarning)\n",
      "  9%|▊         | 54/631 [00:49<08:52,  1.08it/s]/Users/allwynjoseph/anaconda/lib/python3.6/site-packages/tqdm/_monitor.py:89: TqdmSynchronisationWarning: Set changed size during iteration (see https://github.com/tqdm/tqdm/issues/481)\n",
      "  TqdmSynchronisationWarning)\n",
      " 10%|█         | 65/631 [00:59<08:40,  1.09it/s]/Users/allwynjoseph/anaconda/lib/python3.6/site-packages/tqdm/_monitor.py:89: TqdmSynchronisationWarning: Set changed size during iteration (see https://github.com/tqdm/tqdm/issues/481)\n",
      "  TqdmSynchronisationWarning)\n",
      " 12%|█▏        | 75/631 [01:09<08:33,  1.08it/s]/Users/allwynjoseph/anaconda/lib/python3.6/site-packages/tqdm/_monitor.py:89: TqdmSynchronisationWarning: Set changed size during iteration (see https://github.com/tqdm/tqdm/issues/481)\n",
      "  TqdmSynchronisationWarning)\n",
      " 14%|█▎        | 86/631 [01:19<08:22,  1.08it/s]/Users/allwynjoseph/anaconda/lib/python3.6/site-packages/tqdm/_monitor.py:89: TqdmSynchronisationWarning: Set changed size during iteration (see https://github.com/tqdm/tqdm/issues/481)\n",
      "  TqdmSynchronisationWarning)\n",
      " 16%|█▌        | 98/631 [01:29<08:07,  1.09it/s]/Users/allwynjoseph/anaconda/lib/python3.6/site-packages/tqdm/_monitor.py:89: TqdmSynchronisationWarning: Set changed size during iteration (see https://github.com/tqdm/tqdm/issues/481)\n",
      "  TqdmSynchronisationWarning)\n",
      " 19%|█▉        | 121/631 [01:49<07:41,  1.10it/s]/Users/allwynjoseph/anaconda/lib/python3.6/site-packages/tqdm/_monitor.py:89: TqdmSynchronisationWarning: Set changed size during iteration (see https://github.com/tqdm/tqdm/issues/481)\n",
      "  TqdmSynchronisationWarning)\n",
      " 21%|██        | 133/631 [01:59<07:28,  1.11it/s]/Users/allwynjoseph/anaconda/lib/python3.6/site-packages/tqdm/_monitor.py:89: TqdmSynchronisationWarning: Set changed size during iteration (see https://github.com/tqdm/tqdm/issues/481)\n",
      "  TqdmSynchronisationWarning)\n",
      " 23%|██▎       | 144/631 [02:09<07:17,  1.11it/s]/Users/allwynjoseph/anaconda/lib/python3.6/site-packages/tqdm/_monitor.py:89: TqdmSynchronisationWarning: Set changed size during iteration (see https://github.com/tqdm/tqdm/issues/481)\n",
      "  TqdmSynchronisationWarning)\n",
      " 25%|██▍       | 156/631 [02:19<07:05,  1.12it/s]/Users/allwynjoseph/anaconda/lib/python3.6/site-packages/tqdm/_monitor.py:89: TqdmSynchronisationWarning: Set changed size during iteration (see https://github.com/tqdm/tqdm/issues/481)\n",
      "  TqdmSynchronisationWarning)\n",
      " 27%|██▋       | 168/631 [02:30<06:53,  1.12it/s]/Users/allwynjoseph/anaconda/lib/python3.6/site-packages/tqdm/_monitor.py:89: TqdmSynchronisationWarning: Set changed size during iteration (see https://github.com/tqdm/tqdm/issues/481)\n",
      "  TqdmSynchronisationWarning)\n",
      " 28%|██▊       | 179/631 [02:39<06:43,  1.12it/s]/Users/allwynjoseph/anaconda/lib/python3.6/site-packages/tqdm/_monitor.py:89: TqdmSynchronisationWarning: Set changed size during iteration (see https://github.com/tqdm/tqdm/issues/481)\n",
      "  TqdmSynchronisationWarning)\n",
      " 30%|███       | 191/631 [02:49<06:31,  1.12it/s]/Users/allwynjoseph/anaconda/lib/python3.6/site-packages/tqdm/_monitor.py:89: TqdmSynchronisationWarning: Set changed size during iteration (see https://github.com/tqdm/tqdm/issues/481)\n",
      "  TqdmSynchronisationWarning)\n",
      " 32%|███▏      | 202/631 [02:59<06:21,  1.13it/s]/Users/allwynjoseph/anaconda/lib/python3.6/site-packages/tqdm/_monitor.py:89: TqdmSynchronisationWarning: Set changed size during iteration (see https://github.com/tqdm/tqdm/issues/481)\n",
      "  TqdmSynchronisationWarning)\n",
      " 34%|███▍      | 214/631 [03:09<06:10,  1.13it/s]/Users/allwynjoseph/anaconda/lib/python3.6/site-packages/tqdm/_monitor.py:89: TqdmSynchronisationWarning: Set changed size during iteration (see https://github.com/tqdm/tqdm/issues/481)\n",
      "  TqdmSynchronisationWarning)\n",
      " 36%|███▌      | 225/631 [03:19<05:59,  1.13it/s]/Users/allwynjoseph/anaconda/lib/python3.6/site-packages/tqdm/_monitor.py:89: TqdmSynchronisationWarning: Set changed size during iteration (see https://github.com/tqdm/tqdm/issues/481)\n",
      "  TqdmSynchronisationWarning)\n",
      " 37%|███▋      | 236/631 [03:29<05:50,  1.13it/s]/Users/allwynjoseph/anaconda/lib/python3.6/site-packages/tqdm/_monitor.py:89: TqdmSynchronisationWarning: Set changed size during iteration (see https://github.com/tqdm/tqdm/issues/481)\n",
      "  TqdmSynchronisationWarning)\n",
      " 39%|███▉      | 247/631 [03:39<05:41,  1.12it/s]/Users/allwynjoseph/anaconda/lib/python3.6/site-packages/tqdm/_monitor.py:89: TqdmSynchronisationWarning: Set changed size during iteration (see https://github.com/tqdm/tqdm/issues/481)\n",
      "  TqdmSynchronisationWarning)\n",
      " 41%|████      | 256/631 [03:49<05:36,  1.11it/s]/Users/allwynjoseph/anaconda/lib/python3.6/site-packages/tqdm/_monitor.py:89: TqdmSynchronisationWarning: Set changed size during iteration (see https://github.com/tqdm/tqdm/issues/481)\n",
      "  TqdmSynchronisationWarning)\n",
      " 42%|████▏     | 264/631 [03:59<05:33,  1.10it/s]/Users/allwynjoseph/anaconda/lib/python3.6/site-packages/tqdm/_monitor.py:89: TqdmSynchronisationWarning: Set changed size during iteration (see https://github.com/tqdm/tqdm/issues/481)\n",
      "  TqdmSynchronisationWarning)\n",
      " 44%|████▎     | 275/631 [04:10<05:24,  1.10it/s]/Users/allwynjoseph/anaconda/lib/python3.6/site-packages/tqdm/_monitor.py:89: TqdmSynchronisationWarning: Set changed size during iteration (see https://github.com/tqdm/tqdm/issues/481)\n",
      "  TqdmSynchronisationWarning)\n",
      " 45%|████▌     | 284/631 [04:19<05:17,  1.09it/s]/Users/allwynjoseph/anaconda/lib/python3.6/site-packages/tqdm/_monitor.py:89: TqdmSynchronisationWarning: Set changed size during iteration (see https://github.com/tqdm/tqdm/issues/481)\n",
      "  TqdmSynchronisationWarning)\n",
      " 47%|████▋     | 294/631 [04:30<05:09,  1.09it/s]/Users/allwynjoseph/anaconda/lib/python3.6/site-packages/tqdm/_monitor.py:89: TqdmSynchronisationWarning: Set changed size during iteration (see https://github.com/tqdm/tqdm/issues/481)\n",
      "  TqdmSynchronisationWarning)\n",
      " 48%|████▊     | 303/631 [04:39<05:02,  1.08it/s]/Users/allwynjoseph/anaconda/lib/python3.6/site-packages/tqdm/_monitor.py:89: TqdmSynchronisationWarning: Set changed size during iteration (see https://github.com/tqdm/tqdm/issues/481)\n",
      "  TqdmSynchronisationWarning)\n",
      " 50%|████▉     | 315/631 [04:50<04:51,  1.09it/s]/Users/allwynjoseph/anaconda/lib/python3.6/site-packages/tqdm/_monitor.py:89: TqdmSynchronisationWarning: Set changed size during iteration (see https://github.com/tqdm/tqdm/issues/481)\n",
      "  TqdmSynchronisationWarning)\n",
      " 52%|█████▏    | 326/631 [04:59<04:40,  1.09it/s]/Users/allwynjoseph/anaconda/lib/python3.6/site-packages/tqdm/_monitor.py:89: TqdmSynchronisationWarning: Set changed size during iteration (see https://github.com/tqdm/tqdm/issues/481)\n",
      "  TqdmSynchronisationWarning)\n",
      " 54%|█████▎    | 338/631 [05:10<04:28,  1.09it/s]/Users/allwynjoseph/anaconda/lib/python3.6/site-packages/tqdm/_monitor.py:89: TqdmSynchronisationWarning: Set changed size during iteration (see https://github.com/tqdm/tqdm/issues/481)\n",
      "  TqdmSynchronisationWarning)\n",
      " 55%|█████▍    | 345/631 [05:19<04:24,  1.08it/s]/Users/allwynjoseph/anaconda/lib/python3.6/site-packages/tqdm/_monitor.py:89: TqdmSynchronisationWarning: Set changed size during iteration (see https://github.com/tqdm/tqdm/issues/481)\n",
      "  TqdmSynchronisationWarning)\n",
      " 56%|█████▋    | 356/631 [05:29<04:14,  1.08it/s]/Users/allwynjoseph/anaconda/lib/python3.6/site-packages/tqdm/_monitor.py:89: TqdmSynchronisationWarning: Set changed size during iteration (see https://github.com/tqdm/tqdm/issues/481)\n",
      "  TqdmSynchronisationWarning)\n",
      " 58%|█████▊    | 367/631 [05:40<04:04,  1.08it/s]/Users/allwynjoseph/anaconda/lib/python3.6/site-packages/tqdm/_monitor.py:89: TqdmSynchronisationWarning: Set changed size during iteration (see https://github.com/tqdm/tqdm/issues/481)\n",
      "  TqdmSynchronisationWarning)\n",
      " 60%|█████▉    | 378/631 [05:49<03:54,  1.08it/s]/Users/allwynjoseph/anaconda/lib/python3.6/site-packages/tqdm/_monitor.py:89: TqdmSynchronisationWarning: Set changed size during iteration (see https://github.com/tqdm/tqdm/issues/481)\n",
      "  TqdmSynchronisationWarning)\n",
      " 61%|██████▏   | 388/631 [06:00<03:45,  1.08it/s]/Users/allwynjoseph/anaconda/lib/python3.6/site-packages/tqdm/_monitor.py:89: TqdmSynchronisationWarning: Set changed size during iteration (see https://github.com/tqdm/tqdm/issues/481)\n",
      "  TqdmSynchronisationWarning)\n",
      " 63%|██████▎   | 398/631 [06:09<03:36,  1.08it/s]/Users/allwynjoseph/anaconda/lib/python3.6/site-packages/tqdm/_monitor.py:89: TqdmSynchronisationWarning: Set changed size during iteration (see https://github.com/tqdm/tqdm/issues/481)\n",
      "  TqdmSynchronisationWarning)\n",
      " 65%|██████▍   | 409/631 [06:20<03:26,  1.08it/s]/Users/allwynjoseph/anaconda/lib/python3.6/site-packages/tqdm/_monitor.py:89: TqdmSynchronisationWarning: Set changed size during iteration (see https://github.com/tqdm/tqdm/issues/481)\n",
      "  TqdmSynchronisationWarning)\n",
      " 67%|██████▋   | 420/631 [06:30<03:16,  1.08it/s]/Users/allwynjoseph/anaconda/lib/python3.6/site-packages/tqdm/_monitor.py:89: TqdmSynchronisationWarning: Set changed size during iteration (see https://github.com/tqdm/tqdm/issues/481)\n",
      "  TqdmSynchronisationWarning)\n",
      " 68%|██████▊   | 430/631 [06:39<03:06,  1.08it/s]/Users/allwynjoseph/anaconda/lib/python3.6/site-packages/tqdm/_monitor.py:89: TqdmSynchronisationWarning: Set changed size during iteration (see https://github.com/tqdm/tqdm/issues/481)\n",
      "  TqdmSynchronisationWarning)\n",
      " 70%|██████▉   | 440/631 [06:50<02:58,  1.07it/s]/Users/allwynjoseph/anaconda/lib/python3.6/site-packages/tqdm/_monitor.py:89: TqdmSynchronisationWarning: Set changed size during iteration (see https://github.com/tqdm/tqdm/issues/481)\n",
      "  TqdmSynchronisationWarning)\n",
      " 71%|███████▏  | 450/631 [06:59<02:48,  1.07it/s]/Users/allwynjoseph/anaconda/lib/python3.6/site-packages/tqdm/_monitor.py:89: TqdmSynchronisationWarning: Set changed size during iteration (see https://github.com/tqdm/tqdm/issues/481)\n",
      "  TqdmSynchronisationWarning)\n",
      " 73%|███████▎  | 460/631 [07:09<02:39,  1.07it/s]/Users/allwynjoseph/anaconda/lib/python3.6/site-packages/tqdm/_monitor.py:89: TqdmSynchronisationWarning: Set changed size during iteration (see https://github.com/tqdm/tqdm/issues/481)\n",
      "  TqdmSynchronisationWarning)\n",
      " 74%|███████▍  | 470/631 [07:19<02:30,  1.07it/s]/Users/allwynjoseph/anaconda/lib/python3.6/site-packages/tqdm/_monitor.py:89: TqdmSynchronisationWarning: Set changed size during iteration (see https://github.com/tqdm/tqdm/issues/481)\n",
      "  TqdmSynchronisationWarning)\n",
      " 76%|███████▌  | 480/631 [07:30<02:21,  1.07it/s]/Users/allwynjoseph/anaconda/lib/python3.6/site-packages/tqdm/_monitor.py:89: TqdmSynchronisationWarning: Set changed size during iteration (see https://github.com/tqdm/tqdm/issues/481)\n",
      "  TqdmSynchronisationWarning)\n",
      " 77%|███████▋  | 489/631 [07:40<02:13,  1.06it/s]/Users/allwynjoseph/anaconda/lib/python3.6/site-packages/tqdm/_monitor.py:89: TqdmSynchronisationWarning: Set changed size during iteration (see https://github.com/tqdm/tqdm/issues/481)\n",
      "  TqdmSynchronisationWarning)\n",
      " 79%|███████▉  | 497/631 [07:49<02:06,  1.06it/s]/Users/allwynjoseph/anaconda/lib/python3.6/site-packages/tqdm/_monitor.py:89: TqdmSynchronisationWarning: Set changed size during iteration (see https://github.com/tqdm/tqdm/issues/481)\n",
      "  TqdmSynchronisationWarning)\n",
      " 80%|████████  | 505/631 [07:59<01:59,  1.05it/s]/Users/allwynjoseph/anaconda/lib/python3.6/site-packages/tqdm/_monitor.py:89: TqdmSynchronisationWarning: Set changed size during iteration (see https://github.com/tqdm/tqdm/issues/481)\n",
      "  TqdmSynchronisationWarning)\n",
      " 81%|████████▏ | 513/631 [08:09<01:52,  1.05it/s]/Users/allwynjoseph/anaconda/lib/python3.6/site-packages/tqdm/_monitor.py:89: TqdmSynchronisationWarning: Set changed size during iteration (see https://github.com/tqdm/tqdm/issues/481)\n",
      "  TqdmSynchronisationWarning)\n",
      " 83%|████████▎ | 522/631 [08:20<01:44,  1.04it/s]/Users/allwynjoseph/anaconda/lib/python3.6/site-packages/tqdm/_monitor.py:89: TqdmSynchronisationWarning: Set changed size during iteration (see https://github.com/tqdm/tqdm/issues/481)\n",
      "  TqdmSynchronisationWarning)\n",
      " 84%|████████▍ | 532/631 [08:29<01:34,  1.04it/s]/Users/allwynjoseph/anaconda/lib/python3.6/site-packages/tqdm/_monitor.py:89: TqdmSynchronisationWarning: Set changed size during iteration (see https://github.com/tqdm/tqdm/issues/481)\n",
      "  TqdmSynchronisationWarning)\n",
      " 86%|████████▌ | 543/631 [08:40<01:24,  1.04it/s]/Users/allwynjoseph/anaconda/lib/python3.6/site-packages/tqdm/_monitor.py:89: TqdmSynchronisationWarning: Set changed size during iteration (see https://github.com/tqdm/tqdm/issues/481)\n",
      "  TqdmSynchronisationWarning)\n",
      " 88%|████████▊ | 553/631 [08:50<01:14,  1.04it/s]/Users/allwynjoseph/anaconda/lib/python3.6/site-packages/tqdm/_monitor.py:89: TqdmSynchronisationWarning: Set changed size during iteration (see https://github.com/tqdm/tqdm/issues/481)\n",
      "  TqdmSynchronisationWarning)\n",
      " 89%|████████▉ | 561/631 [09:00<01:07,  1.04it/s]/Users/allwynjoseph/anaconda/lib/python3.6/site-packages/tqdm/_monitor.py:89: TqdmSynchronisationWarning: Set changed size during iteration (see https://github.com/tqdm/tqdm/issues/481)\n",
      "  TqdmSynchronisationWarning)\n",
      " 90%|█████████ | 570/631 [09:10<00:58,  1.04it/s]/Users/allwynjoseph/anaconda/lib/python3.6/site-packages/tqdm/_monitor.py:89: TqdmSynchronisationWarning: Set changed size during iteration (see https://github.com/tqdm/tqdm/issues/481)\n",
      "  TqdmSynchronisationWarning)\n",
      " 91%|█████████▏| 577/631 [09:19<00:52,  1.03it/s]/Users/allwynjoseph/anaconda/lib/python3.6/site-packages/tqdm/_monitor.py:89: TqdmSynchronisationWarning: Set changed size during iteration (see https://github.com/tqdm/tqdm/issues/481)\n",
      "  TqdmSynchronisationWarning)\n",
      " 93%|█████████▎| 587/631 [09:30<00:42,  1.03it/s]/Users/allwynjoseph/anaconda/lib/python3.6/site-packages/tqdm/_monitor.py:89: TqdmSynchronisationWarning: Set changed size during iteration (see https://github.com/tqdm/tqdm/issues/481)\n",
      "  TqdmSynchronisationWarning)\n",
      " 95%|█████████▍| 597/631 [09:40<00:33,  1.03it/s]/Users/allwynjoseph/anaconda/lib/python3.6/site-packages/tqdm/_monitor.py:89: TqdmSynchronisationWarning: Set changed size during iteration (see https://github.com/tqdm/tqdm/issues/481)\n",
      "  TqdmSynchronisationWarning)\n",
      " 96%|█████████▌| 607/631 [09:50<00:23,  1.03it/s]/Users/allwynjoseph/anaconda/lib/python3.6/site-packages/tqdm/_monitor.py:89: TqdmSynchronisationWarning: Set changed size during iteration (see https://github.com/tqdm/tqdm/issues/481)\n",
      "  TqdmSynchronisationWarning)\n",
      " 98%|█████████▊| 618/631 [10:00<00:12,  1.03it/s]/Users/allwynjoseph/anaconda/lib/python3.6/site-packages/tqdm/_monitor.py:89: TqdmSynchronisationWarning: Set changed size during iteration (see https://github.com/tqdm/tqdm/issues/481)\n",
      "  TqdmSynchronisationWarning)\n",
      "100%|█████████▉| 628/631 [10:10<00:02,  1.03it/s]/Users/allwynjoseph/anaconda/lib/python3.6/site-packages/tqdm/_monitor.py:89: TqdmSynchronisationWarning: Set changed size during iteration (see https://github.com/tqdm/tqdm/issues/481)\n",
      "  TqdmSynchronisationWarning)\n",
      "100%|██████████| 631/631 [10:13<00:00,  1.03it/s]\n"
     ]
    }
   ],
   "source": [
    "y_pred_probs_rf = np.zeros((20000,2))\n",
    "for idx in tqdm(range(len(Y_train_res))):  \n",
    "    clf_base = RandomForestClassifier()\n",
    "    grid  = {'n_estimators' :[100],\n",
    "             'max_features' : ['auto'],\n",
    "             'criterion' : ['entropy']}\n",
    "   \n",
    "    clf_rf_boost = GridSearchCV(clf_base, grid)\n",
    "    clf_rf_boost.fit(X_train_res[idx], Y_train_res[idx])\n",
    "    y_pred_probs_rf += clf_rf_boost.predict_proba(X_test)"
   ]
  },
  {
   "cell_type": "code",
   "execution_count": 72,
   "metadata": {
    "collapsed": false
   },
   "outputs": [
    {
     "name": "stdout",
     "output_type": "stream",
     "text": [
      "             precision    recall  f1-score   support\n",
      "\n",
      "          0       1.00      0.89      0.94     19955\n",
      "          1       0.02      0.89      0.03        45\n",
      "\n",
      "avg / total       1.00      0.89      0.94     20000\n",
      "\n"
     ]
    }
   ],
   "source": [
    "print(classification_report(Y_test, np.argmax(y_pred_probs_rf, axis = 1)))"
   ]
  },
  {
   "cell_type": "code",
   "execution_count": 75,
   "metadata": {
    "collapsed": false
   },
   "outputs": [
    {
     "name": "stdout",
     "output_type": "stream",
     "text": [
      "[[17673  2282]\n",
      " [    5    40]]\n"
     ]
    }
   ],
   "source": [
    "print(confusion_matrix(Y_test, np.argmax(y_pred_probs_rf, axis = 1)))"
   ]
  },
  {
   "cell_type": "markdown",
   "metadata": {},
   "source": [
    "### Balance Cascade - AdaBoost"
   ]
  },
  {
   "cell_type": "code",
   "execution_count": 68,
   "metadata": {
    "collapsed": true
   },
   "outputs": [],
   "source": [
    "y_pred_probs_ada = np.zeros((20000,2))\n",
    "for idx in range(len(Y_train_res)): \n",
    "    clf_ada = AdaBoostClassifier()\n",
    "    clf_ada.fit(X_train_res[idx], Y_train_res[idx])\n",
    "    y_pred_probs_ada += clf_ada.predict_proba(X_test)"
   ]
  },
  {
   "cell_type": "code",
   "execution_count": 69,
   "metadata": {
    "collapsed": false
   },
   "outputs": [
    {
     "name": "stdout",
     "output_type": "stream",
     "text": [
      "             precision    recall  f1-score   support\n",
      "\n",
      "          0       1.00      0.88      0.94     19955\n",
      "          1       0.02      0.91      0.03        45\n",
      "\n",
      "avg / total       1.00      0.88      0.94     20000\n",
      "\n"
     ]
    }
   ],
   "source": [
    "print(classification_report(Y_test, np.argmax(y_pred_probs_ada, axis = 1)))"
   ]
  },
  {
   "cell_type": "code",
   "execution_count": 74,
   "metadata": {
    "collapsed": false
   },
   "outputs": [
    {
     "name": "stdout",
     "output_type": "stream",
     "text": [
      "[[17621  2334]\n",
      " [    4    41]]\n"
     ]
    }
   ],
   "source": [
    "print(confusion_matrix(Y_test, np.argmax(y_pred_probs_ada, axis = 1)))"
   ]
  },
  {
   "cell_type": "markdown",
   "metadata": {},
   "source": [
    "### Balance Cascade - Xgboost"
   ]
  },
  {
   "cell_type": "code",
   "execution_count": 65,
   "metadata": {
    "collapsed": true
   },
   "outputs": [],
   "source": [
    "y_pred_probs_xg = np.zeros((20000,2))\n",
    "for idx in range(len(Y_train_res)): \n",
    "    clf_xgb = xgb.XGBClassifier()\n",
    "\n",
    "    clf_xgb.fit(X_train_res[idx], Y_train_res[idx])\n",
    "    y_pred_probs_xg += clf_xgb.predict_proba(X_test)"
   ]
  },
  {
   "cell_type": "code",
   "execution_count": 136,
   "metadata": {
    "collapsed": false
   },
   "outputs": [
    {
     "name": "stdout",
     "output_type": "stream",
     "text": [
      "             precision    recall  f1-score   support\n",
      "\n",
      "          0       1.00      0.90      0.95     19955\n",
      "          1       0.02      0.93      0.04        45\n",
      "\n",
      "avg / total       1.00      0.90      0.94     20000\n",
      "\n"
     ]
    }
   ],
   "source": [
    "print(classification_report(Y_test, np.argmax(y_pred_probs_xg, axis = 1)))"
   ]
  },
  {
   "cell_type": "code",
   "execution_count": 137,
   "metadata": {
    "collapsed": false
   },
   "outputs": [
    {
     "name": "stdout",
     "output_type": "stream",
     "text": [
      "[[17890  2065]\n",
      " [    3    42]]\n"
     ]
    }
   ],
   "source": [
    "print(confusion_matrix(Y_test, np.argmax(y_pred_probs_xg, axis = 1)))"
   ]
  },
  {
   "cell_type": "code",
   "execution_count": 135,
   "metadata": {
    "collapsed": true
   },
   "outputs": [],
   "source": [
    "filename = \"xgboost_best.sav\"\n",
    "pickle.dump(clf_xgb, open(filename, 'wb'))"
   ]
  },
  {
   "cell_type": "markdown",
   "metadata": {},
   "source": [
    "# Running Predictions on True Test set"
   ]
  },
  {
   "cell_type": "code",
   "execution_count": 141,
   "metadata": {
    "collapsed": true
   },
   "outputs": [],
   "source": [
    "df_test = pd.read_csv('dataset/test.csv', header= None)"
   ]
  },
  {
   "cell_type": "code",
   "execution_count": 142,
   "metadata": {
    "collapsed": false
   },
   "outputs": [
    {
     "data": {
      "text/html": [
       "<div>\n",
       "<style scoped>\n",
       "    .dataframe tbody tr th:only-of-type {\n",
       "        vertical-align: middle;\n",
       "    }\n",
       "\n",
       "    .dataframe tbody tr th {\n",
       "        vertical-align: top;\n",
       "    }\n",
       "\n",
       "    .dataframe thead th {\n",
       "        text-align: right;\n",
       "    }\n",
       "</style>\n",
       "<table border=\"1\" class=\"dataframe\">\n",
       "  <thead>\n",
       "    <tr style=\"text-align: right;\">\n",
       "      <th></th>\n",
       "      <th>0</th>\n",
       "      <th>1</th>\n",
       "      <th>2</th>\n",
       "      <th>3</th>\n",
       "      <th>4</th>\n",
       "      <th>5</th>\n",
       "      <th>6</th>\n",
       "      <th>7</th>\n",
       "      <th>8</th>\n",
       "      <th>9</th>\n",
       "      <th>...</th>\n",
       "      <th>43</th>\n",
       "      <th>44</th>\n",
       "      <th>45</th>\n",
       "      <th>46</th>\n",
       "      <th>47</th>\n",
       "      <th>48</th>\n",
       "      <th>49</th>\n",
       "      <th>50</th>\n",
       "      <th>51</th>\n",
       "      <th>52</th>\n",
       "    </tr>\n",
       "  </thead>\n",
       "  <tbody>\n",
       "    <tr>\n",
       "      <th>0</th>\n",
       "      <td>1873425.0</td>\n",
       "      <td>6011.0</td>\n",
       "      <td>16.0</td>\n",
       "      <td>0.0</td>\n",
       "      <td>0.0</td>\n",
       "      <td>978.0</td>\n",
       "      <td>0.0</td>\n",
       "      <td>2.0</td>\n",
       "      <td>1.0</td>\n",
       "      <td>0.0</td>\n",
       "      <td>...</td>\n",
       "      <td>240.92</td>\n",
       "      <td>0.00</td>\n",
       "      <td>0.00</td>\n",
       "      <td>0.0</td>\n",
       "      <td>0.00</td>\n",
       "      <td>0.00</td>\n",
       "      <td>0.00</td>\n",
       "      <td>0.00</td>\n",
       "      <td>0.00</td>\n",
       "      <td>0.00</td>\n",
       "    </tr>\n",
       "    <tr>\n",
       "      <th>1</th>\n",
       "      <td>871370.0</td>\n",
       "      <td>5816.0</td>\n",
       "      <td>121.0</td>\n",
       "      <td>1.0</td>\n",
       "      <td>0.0</td>\n",
       "      <td>978.0</td>\n",
       "      <td>5.0</td>\n",
       "      <td>3.0</td>\n",
       "      <td>0.0</td>\n",
       "      <td>1.0</td>\n",
       "      <td>...</td>\n",
       "      <td>299.67</td>\n",
       "      <td>68.39</td>\n",
       "      <td>68.39</td>\n",
       "      <td>0.0</td>\n",
       "      <td>68.39</td>\n",
       "      <td>294.68</td>\n",
       "      <td>68.39</td>\n",
       "      <td>68.39</td>\n",
       "      <td>68.39</td>\n",
       "      <td>68.39</td>\n",
       "    </tr>\n",
       "    <tr>\n",
       "      <th>2</th>\n",
       "      <td>963526.0</td>\n",
       "      <td>7512.0</td>\n",
       "      <td>152.0</td>\n",
       "      <td>0.0</td>\n",
       "      <td>0.0</td>\n",
       "      <td>578.0</td>\n",
       "      <td>0.0</td>\n",
       "      <td>2.0</td>\n",
       "      <td>1.0</td>\n",
       "      <td>1.0</td>\n",
       "      <td>...</td>\n",
       "      <td>1458.82</td>\n",
       "      <td>99.55</td>\n",
       "      <td>0.00</td>\n",
       "      <td>0.0</td>\n",
       "      <td>0.00</td>\n",
       "      <td>0.00</td>\n",
       "      <td>99.55</td>\n",
       "      <td>99.55</td>\n",
       "      <td>0.00</td>\n",
       "      <td>140.40</td>\n",
       "    </tr>\n",
       "    <tr>\n",
       "      <th>3</th>\n",
       "      <td>2063158.0</td>\n",
       "      <td>4899.0</td>\n",
       "      <td>151.0</td>\n",
       "      <td>1.0</td>\n",
       "      <td>0.0</td>\n",
       "      <td>978.0</td>\n",
       "      <td>6.0</td>\n",
       "      <td>3.0</td>\n",
       "      <td>0.0</td>\n",
       "      <td>1.0</td>\n",
       "      <td>...</td>\n",
       "      <td>449.29</td>\n",
       "      <td>0.00</td>\n",
       "      <td>0.00</td>\n",
       "      <td>0.0</td>\n",
       "      <td>0.00</td>\n",
       "      <td>0.00</td>\n",
       "      <td>0.00</td>\n",
       "      <td>0.00</td>\n",
       "      <td>0.00</td>\n",
       "      <td>0.00</td>\n",
       "    </tr>\n",
       "    <tr>\n",
       "      <th>4</th>\n",
       "      <td>321137.0</td>\n",
       "      <td>7011.0</td>\n",
       "      <td>211.0</td>\n",
       "      <td>1.0</td>\n",
       "      <td>0.0</td>\n",
       "      <td>840.0</td>\n",
       "      <td>6.0</td>\n",
       "      <td>4.0</td>\n",
       "      <td>0.0</td>\n",
       "      <td>1.0</td>\n",
       "      <td>...</td>\n",
       "      <td>0.00</td>\n",
       "      <td>0.00</td>\n",
       "      <td>0.00</td>\n",
       "      <td>0.0</td>\n",
       "      <td>0.00</td>\n",
       "      <td>0.00</td>\n",
       "      <td>0.00</td>\n",
       "      <td>0.00</td>\n",
       "      <td>0.00</td>\n",
       "      <td>0.00</td>\n",
       "    </tr>\n",
       "  </tbody>\n",
       "</table>\n",
       "<p>5 rows × 53 columns</p>\n",
       "</div>"
      ],
      "text/plain": [
       "          0       1      2    3    4      5    6    7    8    9    ...    \\\n",
       "0  1873425.0  6011.0   16.0  0.0  0.0  978.0  0.0  2.0  1.0  0.0   ...     \n",
       "1   871370.0  5816.0  121.0  1.0  0.0  978.0  5.0  3.0  0.0  1.0   ...     \n",
       "2   963526.0  7512.0  152.0  0.0  0.0  578.0  0.0  2.0  1.0  1.0   ...     \n",
       "3  2063158.0  4899.0  151.0  1.0  0.0  978.0  6.0  3.0  0.0  1.0   ...     \n",
       "4   321137.0  7011.0  211.0  1.0  0.0  840.0  6.0  4.0  0.0  1.0   ...     \n",
       "\n",
       "        43     44     45   46     47      48     49     50     51      52  \n",
       "0   240.92   0.00   0.00  0.0   0.00    0.00   0.00   0.00   0.00    0.00  \n",
       "1   299.67  68.39  68.39  0.0  68.39  294.68  68.39  68.39  68.39   68.39  \n",
       "2  1458.82  99.55   0.00  0.0   0.00    0.00  99.55  99.55   0.00  140.40  \n",
       "3   449.29   0.00   0.00  0.0   0.00    0.00   0.00   0.00   0.00    0.00  \n",
       "4     0.00   0.00   0.00  0.0   0.00    0.00   0.00   0.00   0.00    0.00  \n",
       "\n",
       "[5 rows x 53 columns]"
      ]
     },
     "execution_count": 142,
     "metadata": {},
     "output_type": "execute_result"
    }
   ],
   "source": [
    "df_test.head()"
   ]
  },
  {
   "cell_type": "code",
   "execution_count": 102,
   "metadata": {
    "collapsed": false
   },
   "outputs": [],
   "source": [
    "## Drop columns as in previous case\n",
    "\n",
    "# Drop high variance column\n",
    "df_test.drop(0, axis = 1, inplace = True)\n",
    "\n",
    "# Drop highly correlated column \n",
    "df_test.drop(set(temp_ls), axis = 1, inplace = True)"
   ]
  },
  {
   "cell_type": "code",
   "execution_count": 108,
   "metadata": {
    "collapsed": false
   },
   "outputs": [
    {
     "name": "stderr",
     "output_type": "stream",
     "text": [
      "/Users/allwynjoseph/anaconda/lib/python3.6/site-packages/ipykernel/__main__.py:2: FutureWarning: Method .as_matrix will be removed in a future version. Use .values instead.\n",
      "  from ipykernel import kernelapp as app\n"
     ]
    }
   ],
   "source": [
    "## prepare data for testing\n",
    "X_true_test = df_test.as_matrix()"
   ]
  },
  {
   "cell_type": "code",
   "execution_count": 130,
   "metadata": {
    "collapsed": false
   },
   "outputs": [],
   "source": [
    "## Get class and probability of class prediction\n",
    "Y_true_pred = np.zeros((100000,2))\n",
    "for idx in range(len(Y_train_res)): \n",
    "    clf_xgb = xgb.XGBClassifier()\n",
    "    clf_xgb.fit(X_train_res[idx], Y_train_res[idx])\n",
    "    Y_true_pred += clf_xgb.predict_proba(X_true_test)\n",
    "\n",
    "classes = np.argmax(Y_true_pred, axis = 1)\n",
    "probs = Y_true_pred.tolist()\n",
    "probs = [[round(probs[i][0]/631,3),round(probs[i][1]/631,3)] for i in range(len(probs))]"
   ]
  },
  {
   "cell_type": "code",
   "execution_count": 169,
   "metadata": {
    "collapsed": false
   },
   "outputs": [],
   "source": [
    "## Write results into text file\n",
    "dataFile = open('prediction_test.txt', 'w')\n",
    "dataFile.write('Class'+'\\t' + 'Prob_0' + '\\t' + 'Prob_1' + '\\n')\n",
    "for i in range(len(probs)):\n",
    "    dataFile.write(str(classes[i])+'\\t' +str(probs[i][0])+'\\t' +str(probs[i][1])+'\\n')\n",
    "\n",
    "dataFile.close()"
   ]
  },
  {
   "cell_type": "code",
   "execution_count": 172,
   "metadata": {
    "collapsed": false
   },
   "outputs": [
    {
     "data": {
      "text/plain": [
       "Counter({0: 52786, 1: 47214})"
      ]
     },
     "execution_count": 172,
     "metadata": {},
     "output_type": "execute_result"
    }
   ],
   "source": [
    "Counter(classes)"
   ]
  },
  {
   "cell_type": "code",
   "execution_count": null,
   "metadata": {
    "collapsed": true
   },
   "outputs": [],
   "source": []
  },
  {
   "cell_type": "code",
   "execution_count": null,
   "metadata": {
    "collapsed": true
   },
   "outputs": [],
   "source": []
  },
  {
   "cell_type": "markdown",
   "metadata": {},
   "source": [
    "## Sampling Methods (discontinued as better results in terms of recall are bound to be achieved with hybrid boosting methods)"
   ]
  },
  {
   "cell_type": "markdown",
   "metadata": {},
   "source": [
    "### Undersampling methods"
   ]
  },
  {
   "cell_type": "code",
   "execution_count": 64,
   "metadata": {
    "collapsed": false
   },
   "outputs": [
    {
     "name": "stdout",
     "output_type": "stream",
     "text": [
      "number of class labels before resampling Counter({0: 79832, 1: 168})\n",
      "number of class labels after simple random resampling Counter({0: 79763, 1: 168})\n"
     ]
    }
   ],
   "source": [
    "######### TOMEK LINK REMOVAL #########\n",
    "\"\"\"\n",
    "Not too useful give that it removed a very few examples only\n",
    "\"\"\"\n",
    "us = TomekLinks(random_state= 1) \n",
    "X_train_tm, Y_train_tm = us.fit_sample(X_train, Y_train)\n",
    "print(\"number of class labels before resampling {}\".format(Counter(Y_train)))\n",
    "print(\"number of class labels after simple random resampling {}\".format(Counter(Y_train_tm)))"
   ]
  },
  {
   "cell_type": "code",
   "execution_count": null,
   "metadata": {
    "collapsed": true
   },
   "outputs": [],
   "source": []
  },
  {
   "cell_type": "code",
   "execution_count": null,
   "metadata": {
    "collapsed": true
   },
   "outputs": [],
   "source": [
    "## LOGISTIC\n",
    "clf_lr = LogisticRegression()\n",
    "grid = {'C': 10.0 ** np.arange(-2,3),# this is hyperparameter, C=1/lambda, where lambda is the regularisation term\n",
    "        'penalty': ['l1','l2']} # this would be the regularisation parameters\n",
    "    \n",
    "cv = KFold(n_splits = 5, shuffle= True, random_state = 0)\n",
    "clf = GridSearchCV(clf_lr, grid, cv=cv)\n",
    "clf.fit(X_train_tm,Y_train_tm)\n",
    "\n",
    "print(classification_report(Y_test, clf.predict(X_test)))\n",
    "print(confusion_matrix(Y_test, clf.predict(X_test)))"
   ]
  },
  {
   "cell_type": "code",
   "execution_count": null,
   "metadata": {
    "collapsed": true
   },
   "outputs": [],
   "source": [
    "## SVM\n",
    "clf_base = SVC()\n",
    "grid = {'kernel' : ['rbf', 'poly'],\n",
    "        'C' : [0.1, 1, 10],\n",
    "        'gamma' : [0.01, 0.1, 1],\n",
    "        'degree' : [1,3,6]}\n",
    "\n",
    "cv = KFold(n_splits = 3, shuffle = True, random_state = 0)\n",
    "clf = GridSearchCV(clf_base, grid)\n",
    "clf.fit(X_train_tm,y_train_tm)\n",
    "\n",
    "print(classification_report(Y_test, clf.predict(X_test)))\n",
    "print(confusion_matrix(Y_test, clf.predict(X_test)))"
   ]
  },
  {
   "cell_type": "code",
   "execution_count": null,
   "metadata": {
    "collapsed": true
   },
   "outputs": [],
   "source": [
    "## RANDOM FOREST\n",
    "clf_base = RandomForestClassifier()\n",
    "grid  = {'n_estimators' :[500],\n",
    "         'max_features' : ['auto'],\n",
    "         'criterion' : ['entropy']}\n",
    "\n",
    "clf = GridSearchCV(clf_base, grid)\n",
    "clf.fit(X_train_tm,y_train_tm)\n",
    "\n",
    "print(classification_report(Y_test, clf.predict(X_test)))\n",
    "print(confusion_matrix(Y_test, clf.predict(X_test)))"
   ]
  },
  {
   "cell_type": "code",
   "execution_count": null,
   "metadata": {
    "collapsed": true
   },
   "outputs": [],
   "source": [
    "## ADABOOST\n",
    "clf = AdaBoostClassifier()\n",
    "clf.fit(X_train_tm,y_train_tm)\n",
    "\n",
    "print(classification_report(Y_test, clf.predict(X_test)))\n",
    "print(confusion_matrix(Y_test, clf.predict(X_test)))"
   ]
  },
  {
   "cell_type": "code",
   "execution_count": null,
   "metadata": {
    "collapsed": true
   },
   "outputs": [],
   "source": []
  },
  {
   "cell_type": "markdown",
   "metadata": {},
   "source": [
    "### Oversampling methods"
   ]
  },
  {
   "cell_type": "code",
   "execution_count": null,
   "metadata": {
    "collapsed": true
   },
   "outputs": [],
   "source": []
  },
  {
   "cell_type": "markdown",
   "metadata": {},
   "source": [
    "### Hybrid Methods"
   ]
  },
  {
   "cell_type": "code",
   "execution_count": null,
   "metadata": {
    "collapsed": true
   },
   "outputs": [],
   "source": []
  }
 ],
 "metadata": {
  "kernelspec": {
   "display_name": "Python 3",
   "language": "python",
   "name": "python3"
  },
  "language_info": {
   "codemirror_mode": {
    "name": "ipython",
    "version": 3
   },
   "file_extension": ".py",
   "mimetype": "text/x-python",
   "name": "python",
   "nbconvert_exporter": "python",
   "pygments_lexer": "ipython3",
   "version": "3.6.0"
  }
 },
 "nbformat": 4,
 "nbformat_minor": 2
}
